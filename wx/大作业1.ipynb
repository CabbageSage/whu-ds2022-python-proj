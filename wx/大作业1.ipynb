{
 "cells": [
  {
   "cell_type": "code",
   "execution_count": 1,
   "metadata": {},
   "outputs": [],
   "source": [
    "import pandas as pd\n",
    "import numpy as np\n",
    "import matplotlib.pyplot as plt\n",
    "from pylab import mpl"
   ]
  },
  {
   "cell_type": "code",
   "execution_count": 2,
   "metadata": {
    "pycharm": {
     "name": "#%%\n"
    }
   },
   "outputs": [
    {
     "data": {
      "text/html": [
       "<div>\n",
       "<style scoped>\n",
       "    .dataframe tbody tr th:only-of-type {\n",
       "        vertical-align: middle;\n",
       "    }\n",
       "\n",
       "    .dataframe tbody tr th {\n",
       "        vertical-align: top;\n",
       "    }\n",
       "\n",
       "    .dataframe thead th {\n",
       "        text-align: right;\n",
       "    }\n",
       "</style>\n",
       "<table border=\"1\" class=\"dataframe\">\n",
       "  <thead>\n",
       "    <tr style=\"text-align: right;\">\n",
       "      <th></th>\n",
       "      <th>演员</th>\n",
       "      <th>类型</th>\n",
       "    </tr>\n",
       "  </thead>\n",
       "  <tbody>\n",
       "    <tr>\n",
       "      <th>0</th>\n",
       "      <td>50 Cent</td>\n",
       "      <td>{Mystery, Action, Crime}</td>\n",
       "    </tr>\n",
       "    <tr>\n",
       "      <th>1</th>\n",
       "      <td>A.C. Peterson</td>\n",
       "      <td>{Action, Horror}</td>\n",
       "    </tr>\n",
       "    <tr>\n",
       "      <th>2</th>\n",
       "      <td>AJ Michalka</td>\n",
       "      <td>{Sci-Fi, Thriller, Mystery}</td>\n",
       "    </tr>\n",
       "    <tr>\n",
       "      <th>3</th>\n",
       "      <td>Aamir Khan</td>\n",
       "      <td>{Family, Romance, Comedy, Biography, Action, M...</td>\n",
       "    </tr>\n",
       "    <tr>\n",
       "      <th>4</th>\n",
       "      <td>Aaron Burns</td>\n",
       "      <td>{Horror, Thriller, Adventure, Drama}</td>\n",
       "    </tr>\n",
       "    <tr>\n",
       "      <th>...</th>\n",
       "      <td>...</td>\n",
       "      <td>...</td>\n",
       "    </tr>\n",
       "    <tr>\n",
       "      <th>2010</th>\n",
       "      <td>Zoë Bell</td>\n",
       "      <td>{Action, Horror, Thriller}</td>\n",
       "    </tr>\n",
       "    <tr>\n",
       "      <th>2011</th>\n",
       "      <td>Zoë Kravitz</td>\n",
       "      <td>{Action, Thriller, Sci-Fi, Adventure, Crime, D...</td>\n",
       "    </tr>\n",
       "    <tr>\n",
       "      <th>2012</th>\n",
       "      <td>Émilie Leclerc</td>\n",
       "      <td>{Adventure, Crime, Biography}</td>\n",
       "    </tr>\n",
       "    <tr>\n",
       "      <th>2013</th>\n",
       "      <td>Ólafur Darri Ólafsson</td>\n",
       "      <td>{Adventure, Action, Fantasy}</td>\n",
       "    </tr>\n",
       "    <tr>\n",
       "      <th>2014</th>\n",
       "      <td>Óscar Jaenada</td>\n",
       "      <td>{Horror, Drama, Thriller}</td>\n",
       "    </tr>\n",
       "  </tbody>\n",
       "</table>\n",
       "<p>2015 rows × 2 columns</p>\n",
       "</div>"
      ],
      "text/plain": [
       "                         演员                                                 类型\n",
       "0                   50 Cent                           {Mystery, Action, Crime}\n",
       "1             A.C. Peterson                                   {Action, Horror}\n",
       "2               AJ Michalka                        {Sci-Fi, Thriller, Mystery}\n",
       "3                Aamir Khan  {Family, Romance, Comedy, Biography, Action, M...\n",
       "4               Aaron Burns               {Horror, Thriller, Adventure, Drama}\n",
       "...                     ...                                                ...\n",
       "2010               Zoë Bell                         {Action, Horror, Thriller}\n",
       "2011            Zoë Kravitz  {Action, Thriller, Sci-Fi, Adventure, Crime, D...\n",
       "2012         Émilie Leclerc                      {Adventure, Crime, Biography}\n",
       "2013  Ólafur Darri Ólafsson                       {Adventure, Action, Fantasy}\n",
       "2014          Óscar Jaenada                          {Horror, Drama, Thriller}\n",
       "\n",
       "[2015 rows x 2 columns]"
      ]
     },
     "execution_count": 2,
     "metadata": {},
     "output_type": "execute_result"
    }
   ],
   "source": [
    "df = pd.read_csv('C:\\\\Users\\\\91242\\\\Desktop\\\\imdb_movies.csv')\n",
    "pairs = {}\n",
    "for i in range(len(df)):\n",
    "    actors = df.at[i, 'Actors'].split(', ')\n",
    "    for actor in actors:\n",
    "        if pairs.get(actor, None) != None:\n",
    "            pairs[actor] |= set(df.at[i, 'Genre'].split(','))\n",
    "        else:\n",
    "            pairs[actor] = set(df.at[i, 'Genre'].split(','))\n",
    "\n",
    "pairs = sorted(list(pairs.items()), key=lambda item: item[0])\n",
    "index = [item[0] for item in pairs]\n",
    "data = [item[1] for item in pairs]\n",
    "df1 = pd.DataFrame({'演员': index, '类型': data})\n",
    "\n",
    "df1"
   ]
  },
  {
   "cell_type": "code",
   "execution_count": 3,
   "metadata": {
    "pycharm": {
     "name": "#%%\n"
    }
   },
   "outputs": [
    {
     "data": {
      "text/html": [
       "<div>\n",
       "<style scoped>\n",
       "    .dataframe tbody tr th:only-of-type {\n",
       "        vertical-align: middle;\n",
       "    }\n",
       "\n",
       "    .dataframe tbody tr th {\n",
       "        vertical-align: top;\n",
       "    }\n",
       "\n",
       "    .dataframe thead th {\n",
       "        text-align: right;\n",
       "    }\n",
       "</style>\n",
       "<table border=\"1\" class=\"dataframe\">\n",
       "  <thead>\n",
       "    <tr style=\"text-align: right;\">\n",
       "      <th></th>\n",
       "      <th>演员</th>\n",
       "      <th>类型</th>\n",
       "      <th>数量</th>\n",
       "    </tr>\n",
       "  </thead>\n",
       "  <tbody>\n",
       "    <tr>\n",
       "      <th>256</th>\n",
       "      <td>Brad Pitt</td>\n",
       "      <td>{Comedy, History, Action, Thriller, Animation,...</td>\n",
       "      <td>14</td>\n",
       "    </tr>\n",
       "    <tr>\n",
       "      <th>954</th>\n",
       "      <td>Johnny Depp</td>\n",
       "      <td>{Musical, Comedy, Action, Fantasy, Adventure, ...</td>\n",
       "      <td>13</td>\n",
       "    </tr>\n",
       "    <tr>\n",
       "      <th>356</th>\n",
       "      <td>Chloë Grace Moretz</td>\n",
       "      <td>{Comedy, Action, Thriller, Sci-Fi, Adventure, ...</td>\n",
       "      <td>13</td>\n",
       "    </tr>\n",
       "    <tr>\n",
       "      <th>732</th>\n",
       "      <td>Hugh Jackman</td>\n",
       "      <td>{Musical, Comedy, Action, Animation, Sci-Fi, A...</td>\n",
       "      <td>13</td>\n",
       "    </tr>\n",
       "    <tr>\n",
       "      <th>97</th>\n",
       "      <td>Amy Adams</td>\n",
       "      <td>{Comedy, Action, Thriller, Animation, Sci-Fi, ...</td>\n",
       "      <td>12</td>\n",
       "    </tr>\n",
       "    <tr>\n",
       "      <th>...</th>\n",
       "      <td>...</td>\n",
       "      <td>...</td>\n",
       "      <td>...</td>\n",
       "    </tr>\n",
       "    <tr>\n",
       "      <th>351</th>\n",
       "      <td>Chira Cassel</td>\n",
       "      <td>{Drama}</td>\n",
       "      <td>1</td>\n",
       "    </tr>\n",
       "    <tr>\n",
       "      <th>1654</th>\n",
       "      <td>Roman Kolinka,Edith Scob</td>\n",
       "      <td>{Drama}</td>\n",
       "      <td>1</td>\n",
       "    </tr>\n",
       "    <tr>\n",
       "      <th>1653</th>\n",
       "      <td>Roman Jossart,Nadia White</td>\n",
       "      <td>{Horror}</td>\n",
       "      <td>1</td>\n",
       "    </tr>\n",
       "    <tr>\n",
       "      <th>1650</th>\n",
       "      <td>Roger Bart</td>\n",
       "      <td>{Horror}</td>\n",
       "      <td>1</td>\n",
       "    </tr>\n",
       "    <tr>\n",
       "      <th>484</th>\n",
       "      <td>Demián Bichir</td>\n",
       "      <td>{Drama}</td>\n",
       "      <td>1</td>\n",
       "    </tr>\n",
       "  </tbody>\n",
       "</table>\n",
       "<p>2015 rows × 3 columns</p>\n",
       "</div>"
      ],
      "text/plain": [
       "                             演员  \\\n",
       "256                   Brad Pitt   \n",
       "954                 Johnny Depp   \n",
       "356          Chloë Grace Moretz   \n",
       "732                Hugh Jackman   \n",
       "97                    Amy Adams   \n",
       "...                         ...   \n",
       "351                Chira Cassel   \n",
       "1654   Roman Kolinka,Edith Scob   \n",
       "1653  Roman Jossart,Nadia White   \n",
       "1650                 Roger Bart   \n",
       "484               Demián Bichir   \n",
       "\n",
       "                                                     类型  数量  \n",
       "256   {Comedy, History, Action, Thriller, Animation,...  14  \n",
       "954   {Musical, Comedy, Action, Fantasy, Adventure, ...  13  \n",
       "356   {Comedy, Action, Thriller, Sci-Fi, Adventure, ...  13  \n",
       "732   {Musical, Comedy, Action, Animation, Sci-Fi, A...  13  \n",
       "97    {Comedy, Action, Thriller, Animation, Sci-Fi, ...  12  \n",
       "...                                                 ...  ..  \n",
       "351                                             {Drama}   1  \n",
       "1654                                            {Drama}   1  \n",
       "1653                                           {Horror}   1  \n",
       "1650                                           {Horror}   1  \n",
       "484                                             {Drama}   1  \n",
       "\n",
       "[2015 rows x 3 columns]"
      ]
     },
     "execution_count": 3,
     "metadata": {},
     "output_type": "execute_result"
    }
   ],
   "source": [
    "df1['数量'] = df1['类型'].apply(lambda x: len(x))\n",
    "df1.sort_values('数量', ascending=False)"
   ]
  },
  {
   "cell_type": "code",
   "execution_count": 4,
   "metadata": {
    "pycharm": {
     "name": "#%%\n"
    }
   },
   "outputs": [
    {
     "data": {
      "text/plain": [
       "14"
      ]
     },
     "execution_count": 4,
     "metadata": {},
     "output_type": "execute_result"
    }
   ],
   "source": [
    "result = df1['数量'].max()\n",
    "result"
   ]
  },
  {
   "cell_type": "code",
   "execution_count": 10,
   "metadata": {
    "pycharm": {
     "name": "#%%\n"
    }
   },
   "outputs": [
    {
     "data": {
      "text/html": [
       "<div>\n",
       "<style scoped>\n",
       "    .dataframe tbody tr th:only-of-type {\n",
       "        vertical-align: middle;\n",
       "    }\n",
       "\n",
       "    .dataframe tbody tr th {\n",
       "        vertical-align: top;\n",
       "    }\n",
       "\n",
       "    .dataframe thead th {\n",
       "        text-align: right;\n",
       "    }\n",
       "</style>\n",
       "<table border=\"1\" class=\"dataframe\">\n",
       "  <thead>\n",
       "    <tr style=\"text-align: right;\">\n",
       "      <th></th>\n",
       "      <th>演员</th>\n",
       "      <th>类型</th>\n",
       "      <th>数量</th>\n",
       "    </tr>\n",
       "  </thead>\n",
       "  <tbody>\n",
       "    <tr>\n",
       "      <th>256</th>\n",
       "      <td>Brad Pitt</td>\n",
       "      <td>{Comedy, History, Action, Thriller, Animation,...</td>\n",
       "      <td>14</td>\n",
       "    </tr>\n",
       "    <tr>\n",
       "      <th>356</th>\n",
       "      <td>Chloë Grace Moretz</td>\n",
       "      <td>{Comedy, Action, Thriller, Sci-Fi, Adventure, ...</td>\n",
       "      <td>13</td>\n",
       "    </tr>\n",
       "    <tr>\n",
       "      <th>732</th>\n",
       "      <td>Hugh Jackman</td>\n",
       "      <td>{Musical, Comedy, Action, Animation, Sci-Fi, A...</td>\n",
       "      <td>13</td>\n",
       "    </tr>\n",
       "    <tr>\n",
       "      <th>954</th>\n",
       "      <td>Johnny Depp</td>\n",
       "      <td>{Musical, Comedy, Action, Fantasy, Adventure, ...</td>\n",
       "      <td>13</td>\n",
       "    </tr>\n",
       "  </tbody>\n",
       "</table>\n",
       "</div>"
      ],
      "text/plain": [
       "                     演员                                                 类型  数量\n",
       "256           Brad Pitt  {Comedy, History, Action, Thriller, Animation,...  14\n",
       "356  Chloë Grace Moretz  {Comedy, Action, Thriller, Sci-Fi, Adventure, ...  13\n",
       "732        Hugh Jackman  {Musical, Comedy, Action, Animation, Sci-Fi, A...  13\n",
       "954         Johnny Depp  {Musical, Comedy, Action, Fantasy, Adventure, ...  13"
      ]
     },
     "execution_count": 10,
     "metadata": {},
     "output_type": "execute_result"
    }
   ],
   "source": [
    "ans = df1[df1['数量']>=result-1]\n",
    "ans"
   ]
  },
  {
   "cell_type": "code",
   "execution_count": 13,
   "metadata": {},
   "outputs": [
    {
     "data": {
      "text/plain": [
       "<Figure size 432x288 with 0 Axes>"
      ]
     },
     "metadata": {},
     "output_type": "display_data"
    },
    {
     "data": {
      "image/png": "[encoded data removed]",
      "text/plain": [
       "<Figure size 432x288 with 1 Axes>"
      ]
     },
     "metadata": {
      "needs_background": "light"
     },
     "output_type": "display_data"
    }
   ],
   "source": [
    "mpl.rcParams['font.sans-serif']=['FangSong']\n",
    "mpl.rcParams['axes.unicode_minus']=False\n",
    "plt.figure()\n",
    "ans.plot(x='演员',y='数量',kind='bar')\n",
    "plt.show()"
   ]
  },
  {
   "cell_type": "code",
   "execution_count": null,
   "metadata": {},
   "outputs": [],
   "source": []
  }
 ],
 "metadata": {
  "kernelspec": {
   "display_name": "Python 3",
   "language": "python",
   "name": "python3"
  },
  "language_info": {
   "codemirror_mode": {
    "name": "ipython",
    "version": 3
   },
   "file_extension": ".py",
   "mimetype": "text/x-python",
   "name": "python",
   "nbconvert_exporter": "python",
   "pygments_lexer": "ipython3",
   "version": "3.8.8"
  }
 },
 "nbformat": 4,
 "nbformat_minor": 1
}
