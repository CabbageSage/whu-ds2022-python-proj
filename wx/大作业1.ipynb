{
 "cells": [
  {
   "cell_type": "code",
   "execution_count": 19,
   "metadata": {},
   "outputs": [],
   "source": [
    "import pandas as pd\n",
    "import numpy as np\n",
    "import matplotlib.pyplot as plt\n",
    "from pylab import mpl"
   ]
  },
  {
   "cell_type": "code",
   "execution_count": 20,
   "metadata": {
    "pycharm": {
     "name": "#%%\n"
    }
   },
   "outputs": [
    {
     "data": {
      "text/html": [
       "<div>\n",
       "<style scoped>\n",
       "    .dataframe tbody tr th:only-of-type {\n",
       "        vertical-align: middle;\n",
       "    }\n",
       "\n",
       "    .dataframe tbody tr th {\n",
       "        vertical-align: top;\n",
       "    }\n",
       "\n",
       "    .dataframe thead th {\n",
       "        text-align: right;\n",
       "    }\n",
       "</style>\n",
       "<table border=\"1\" class=\"dataframe\">\n",
       "  <thead>\n",
       "    <tr style=\"text-align: right;\">\n",
       "      <th></th>\n",
       "      <th>演员</th>\n",
       "      <th>类型</th>\n",
       "    </tr>\n",
       "  </thead>\n",
       "  <tbody>\n",
       "    <tr>\n",
       "      <th>0</th>\n",
       "      <td>50 Cent</td>\n",
       "      <td>{Mystery, Crime, Action}</td>\n",
       "    </tr>\n",
       "    <tr>\n",
       "      <th>1</th>\n",
       "      <td>A.C. Peterson</td>\n",
       "      <td>{Horror, Action}</td>\n",
       "    </tr>\n",
       "    <tr>\n",
       "      <th>2</th>\n",
       "      <td>AJ Michalka</td>\n",
       "      <td>{Mystery, Sci-Fi, Thriller}</td>\n",
       "    </tr>\n",
       "    <tr>\n",
       "      <th>3</th>\n",
       "      <td>Aamir Khan</td>\n",
       "      <td>{Music, Drama, Family}</td>\n",
       "    </tr>\n",
       "    <tr>\n",
       "      <th>4</th>\n",
       "      <td>Aaron Burns</td>\n",
       "      <td>{Drama, Adventure, Horror, Thriller}</td>\n",
       "    </tr>\n",
       "    <tr>\n",
       "      <th>...</th>\n",
       "      <td>...</td>\n",
       "      <td>...</td>\n",
       "    </tr>\n",
       "    <tr>\n",
       "      <th>2389</th>\n",
       "      <td>Zach Galifianakis</td>\n",
       "      <td>{Action, Comedy, Crime}</td>\n",
       "    </tr>\n",
       "    <tr>\n",
       "      <th>2390</th>\n",
       "      <td>Zachary Gordon</td>\n",
       "      <td>{Comedy, Family}</td>\n",
       "    </tr>\n",
       "    <tr>\n",
       "      <th>2391</th>\n",
       "      <td>Zachary Quinto</td>\n",
       "      <td>{Biography, Drama, Thriller}</td>\n",
       "    </tr>\n",
       "    <tr>\n",
       "      <th>2392</th>\n",
       "      <td>Zoey Deutch</td>\n",
       "      <td>{Comedy, Fantasy, Action}</td>\n",
       "    </tr>\n",
       "    <tr>\n",
       "      <th>2393</th>\n",
       "      <td>Zooey Deschanel</td>\n",
       "      <td>{Romance, Animation, Drama, Adventure, Comedy}</td>\n",
       "    </tr>\n",
       "  </tbody>\n",
       "</table>\n",
       "<p>2394 rows × 2 columns</p>\n",
       "</div>"
      ],
      "text/plain": [
       "                     演员                                              类型\n",
       "0               50 Cent                        {Mystery, Crime, Action}\n",
       "1         A.C. Peterson                                {Horror, Action}\n",
       "2           AJ Michalka                     {Mystery, Sci-Fi, Thriller}\n",
       "3            Aamir Khan                          {Music, Drama, Family}\n",
       "4           Aaron Burns            {Drama, Adventure, Horror, Thriller}\n",
       "...                 ...                                             ...\n",
       "2389  Zach Galifianakis                         {Action, Comedy, Crime}\n",
       "2390     Zachary Gordon                                {Comedy, Family}\n",
       "2391     Zachary Quinto                    {Biography, Drama, Thriller}\n",
       "2392        Zoey Deutch                       {Comedy, Fantasy, Action}\n",
       "2393    Zooey Deschanel  {Romance, Animation, Drama, Adventure, Comedy}\n",
       "\n",
       "[2394 rows x 2 columns]"
      ]
     },
     "execution_count": 20,
     "metadata": {},
     "output_type": "execute_result"
    }
   ],
   "source": [
    "df = pd.read_csv('C:\\\\Users\\\\91242\\\\Desktop\\\\imdb_movies.csv')\n",
    "pairs = {}\n",
    "for i in range(len(df)):\n",
    "    actors = df.at[i, 'Actors'].split(',')\n",
    "    for actor in actors:\n",
    "        if pairs.get(actor, None) != None:\n",
    "            pairs[actor] |= set(df.at[i, 'Genre'].split(','))\n",
    "        else:\n",
    "            pairs[actor] = set(df.at[i, 'Genre'].split(','))\n",
    "\n",
    "pairs = sorted(list(pairs.items()), key=lambda item: item[0])\n",
    "index = [item[0] for item in pairs]\n",
    "data = [item[1] for item in pairs]\n",
    "df1 = pd.DataFrame({'演员': index, '类型': data})\n",
    "\n",
    "df1"
   ]
  },
  {
   "cell_type": "code",
   "execution_count": 21,
   "metadata": {
    "pycharm": {
     "name": "#%%\n"
    }
   },
   "outputs": [
    {
     "data": {
      "text/html": [
       "<div>\n",
       "<style scoped>\n",
       "    .dataframe tbody tr th:only-of-type {\n",
       "        vertical-align: middle;\n",
       "    }\n",
       "\n",
       "    .dataframe tbody tr th {\n",
       "        vertical-align: top;\n",
       "    }\n",
       "\n",
       "    .dataframe thead th {\n",
       "        text-align: right;\n",
       "    }\n",
       "</style>\n",
       "<table border=\"1\" class=\"dataframe\">\n",
       "  <thead>\n",
       "    <tr style=\"text-align: right;\">\n",
       "      <th></th>\n",
       "      <th>演员</th>\n",
       "      <th>类型</th>\n",
       "      <th>数量</th>\n",
       "    </tr>\n",
       "  </thead>\n",
       "  <tbody>\n",
       "    <tr>\n",
       "      <th>0</th>\n",
       "      <td>50 Cent</td>\n",
       "      <td>{Mystery, Crime, Action}</td>\n",
       "      <td>3</td>\n",
       "    </tr>\n",
       "    <tr>\n",
       "      <th>1</th>\n",
       "      <td>A.C. Peterson</td>\n",
       "      <td>{Horror, Action}</td>\n",
       "      <td>2</td>\n",
       "    </tr>\n",
       "    <tr>\n",
       "      <th>2</th>\n",
       "      <td>AJ Michalka</td>\n",
       "      <td>{Mystery, Sci-Fi, Thriller}</td>\n",
       "      <td>3</td>\n",
       "    </tr>\n",
       "    <tr>\n",
       "      <th>3</th>\n",
       "      <td>Aamir Khan</td>\n",
       "      <td>{Music, Drama, Family}</td>\n",
       "      <td>3</td>\n",
       "    </tr>\n",
       "    <tr>\n",
       "      <th>4</th>\n",
       "      <td>Aaron Burns</td>\n",
       "      <td>{Drama, Adventure, Horror, Thriller}</td>\n",
       "      <td>4</td>\n",
       "    </tr>\n",
       "    <tr>\n",
       "      <th>...</th>\n",
       "      <td>...</td>\n",
       "      <td>...</td>\n",
       "      <td>...</td>\n",
       "    </tr>\n",
       "    <tr>\n",
       "      <th>2389</th>\n",
       "      <td>Zach Galifianakis</td>\n",
       "      <td>{Action, Comedy, Crime}</td>\n",
       "      <td>3</td>\n",
       "    </tr>\n",
       "    <tr>\n",
       "      <th>2390</th>\n",
       "      <td>Zachary Gordon</td>\n",
       "      <td>{Comedy, Family}</td>\n",
       "      <td>2</td>\n",
       "    </tr>\n",
       "    <tr>\n",
       "      <th>2391</th>\n",
       "      <td>Zachary Quinto</td>\n",
       "      <td>{Biography, Drama, Thriller}</td>\n",
       "      <td>3</td>\n",
       "    </tr>\n",
       "    <tr>\n",
       "      <th>2392</th>\n",
       "      <td>Zoey Deutch</td>\n",
       "      <td>{Comedy, Fantasy, Action}</td>\n",
       "      <td>3</td>\n",
       "    </tr>\n",
       "    <tr>\n",
       "      <th>2393</th>\n",
       "      <td>Zooey Deschanel</td>\n",
       "      <td>{Romance, Animation, Drama, Adventure, Comedy}</td>\n",
       "      <td>5</td>\n",
       "    </tr>\n",
       "  </tbody>\n",
       "</table>\n",
       "<p>2394 rows × 3 columns</p>\n",
       "</div>"
      ],
      "text/plain": [
       "                     演员                                              类型  数量\n",
       "0               50 Cent                        {Mystery, Crime, Action}   3\n",
       "1         A.C. Peterson                                {Horror, Action}   2\n",
       "2           AJ Michalka                     {Mystery, Sci-Fi, Thriller}   3\n",
       "3            Aamir Khan                          {Music, Drama, Family}   3\n",
       "4           Aaron Burns            {Drama, Adventure, Horror, Thriller}   4\n",
       "...                 ...                                             ...  ..\n",
       "2389  Zach Galifianakis                         {Action, Comedy, Crime}   3\n",
       "2390     Zachary Gordon                                {Comedy, Family}   2\n",
       "2391     Zachary Quinto                    {Biography, Drama, Thriller}   3\n",
       "2392        Zoey Deutch                       {Comedy, Fantasy, Action}   3\n",
       "2393    Zooey Deschanel  {Romance, Animation, Drama, Adventure, Comedy}   5\n",
       "\n",
       "[2394 rows x 3 columns]"
      ]
     },
     "execution_count": 21,
     "metadata": {},
     "output_type": "execute_result"
    }
   ],
   "source": [
    "df1['数量'] = df1['类型'].apply(lambda x: len(x))\n",
    "df1"
   ]
  },
  {
   "cell_type": "code",
   "execution_count": 22,
   "metadata": {
    "pycharm": {
     "name": "#%%\n"
    }
   },
   "outputs": [
    {
     "data": {
      "text/plain": [
       "12"
      ]
     },
     "execution_count": 22,
     "metadata": {},
     "output_type": "execute_result"
    }
   ],
   "source": [
    "result = df1['数量'].max()\n",
    "result"
   ]
  },
  {
   "cell_type": "code",
   "execution_count": 23,
   "metadata": {
    "pycharm": {
     "name": "#%%\n"
    }
   },
   "outputs": [
    {
     "data": {
      "text/html": [
       "<div>\n",
       "<style scoped>\n",
       "    .dataframe tbody tr th:only-of-type {\n",
       "        vertical-align: middle;\n",
       "    }\n",
       "\n",
       "    .dataframe tbody tr th {\n",
       "        vertical-align: top;\n",
       "    }\n",
       "\n",
       "    .dataframe thead th {\n",
       "        text-align: right;\n",
       "    }\n",
       "</style>\n",
       "<table border=\"1\" class=\"dataframe\">\n",
       "  <thead>\n",
       "    <tr style=\"text-align: right;\">\n",
       "      <th></th>\n",
       "      <th>演员</th>\n",
       "      <th>类型</th>\n",
       "      <th>数量</th>\n",
       "    </tr>\n",
       "  </thead>\n",
       "  <tbody>\n",
       "    <tr>\n",
       "      <th>574</th>\n",
       "      <td>Hugh Jackman</td>\n",
       "      <td>{Biography, Romance, Animation, Sci-Fi, Action...</td>\n",
       "      <td>12</td>\n",
       "    </tr>\n",
       "    <tr>\n",
       "      <th>1927</th>\n",
       "      <td>Jake Gyllenhaal</td>\n",
       "      <td>{Romance, Sci-Fi, History, Action, Thriller, S...</td>\n",
       "      <td>12</td>\n",
       "    </tr>\n",
       "    <tr>\n",
       "      <th>1991</th>\n",
       "      <td>Johnny Depp</td>\n",
       "      <td>{Biography, Romance, Action, Comedy, Mystery, ...</td>\n",
       "      <td>12</td>\n",
       "    </tr>\n",
       "  </tbody>\n",
       "</table>\n",
       "</div>"
      ],
      "text/plain": [
       "                   演员                                                 类型  数量\n",
       "574      Hugh Jackman  {Biography, Romance, Animation, Sci-Fi, Action...  12\n",
       "1927  Jake Gyllenhaal  {Romance, Sci-Fi, History, Action, Thriller, S...  12\n",
       "1991      Johnny Depp  {Biography, Romance, Action, Comedy, Mystery, ...  12"
      ]
     },
     "execution_count": 23,
     "metadata": {},
     "output_type": "execute_result"
    }
   ],
   "source": [
    "ans = df1[df1['数量']==result]\n",
    "ans"
   ]
  },
  {
   "cell_type": "code",
   "execution_count": 26,
   "metadata": {},
   "outputs": [
    {
     "data": {
      "text/plain": [
       "<Figure size 432x288 with 0 Axes>"
      ]
     },
     "metadata": {},
     "output_type": "display_data"
    },
    {
     "data": {
      "image/png": "[encoded data removed]",
      "text/plain": [
       "<Figure size 432x288 with 1 Axes>"
      ]
     },
     "metadata": {
      "needs_background": "light"
     },
     "output_type": "display_data"
    }
   ],
   "source": [
    "mpl.rcParams['font.sans-serif']=['FangSong']\n",
    "mpl.rcParams['axes.unicode_minus']=False\n",
    "plt.figure()\n",
    "df1.plot(x='演员',y='数量',kind='bar')\n",
    "plt.show()"
   ]
  },
  {
   "cell_type": "code",
   "execution_count": 27,
   "metadata": {},
   "outputs": [
    {
     "data": {
      "text/plain": [
       "<Figure size 432x288 with 0 Axes>"
      ]
     },
     "metadata": {},
     "output_type": "display_data"
    },
    {
     "data": {
      "image/png": "[encoded data removed]",
      "text/plain": [
       "<Figure size 432x288 with 1 Axes>"
      ]
     },
     "metadata": {
      "needs_background": "light"
     },
     "output_type": "display_data"
    }
   ],
   "source": [
    "mpl.rcParams['font.sans-serif']=['FangSong']\n",
    "mpl.rcParams['axes.unicode_minus']=False\n",
    "plt.figure()\n",
    "ans.plot(x='演员',y='数量',kind='bar')\n",
    "plt.show()"
   ]
  }
 ],
 "metadata": {
  "kernelspec": {
   "display_name": "Python 3",
   "language": "python",
   "name": "python3"
  },
  "language_info": {
   "codemirror_mode": {
    "name": "ipython",
    "version": 3
   },
   "file_extension": ".py",
   "mimetype": "text/x-python",
   "name": "python",
   "nbconvert_exporter": "python",
   "pygments_lexer": "ipython3",
   "version": "3.8.8"
  }
 },
 "nbformat": 4,
 "nbformat_minor": 1
}
