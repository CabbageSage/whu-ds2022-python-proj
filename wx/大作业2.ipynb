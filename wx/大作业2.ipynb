{
 "cells": [
  {
   "cell_type": "code",
   "execution_count": 1,
   "id": "c0bc652e",
   "metadata": {},
   "outputs": [],
   "source": [
    "import pandas as pd\n",
    "import numpy as np\n",
    "import matplotlib.pyplot as plt\n",
    "from pylab import mpl"
   ]
  },
  {
   "cell_type": "code",
   "execution_count": 25,
   "id": "e852478d",
   "metadata": {},
   "outputs": [
    {
     "name": "stdout",
     "output_type": "stream",
     "text": [
      "用现金买水果的男士最多的年龄段为：20到30\n"
     ]
    },
    {
     "data": {
      "image/png": "[encoded data removed]",
      "text/plain": [
       "<Figure size 432x288 with 1 Axes>"
      ]
     },
     "metadata": {
      "needs_background": "light"
     },
     "output_type": "display_data"
    }
   ],
   "source": [
    "df = pd.read_csv('C:\\\\Users\\\\91242\\\\Desktop\\\\shopping.csv')\n",
    "age=[]\n",
    "for i in range(len(df)):\n",
    "    if df.at[i,'付款方式']=='CASH':\n",
    "        if df.at[i,'性别']=='M':\n",
    "            if df.at[i,'物品']=='水果':\n",
    "                age.append(df.at[i,'年龄'])\n",
    "for i in range(len(age)):\n",
    "    if age[i]>=10 and age[i]<20:\n",
    "        age[i]=10\n",
    "    if age[i]>=20 and age[i]<30:\n",
    "        age[i]=20\n",
    "    if age[i]>=30 and age[i]<40:\n",
    "        age[i]=30\n",
    "    if age[i]>=40 and age[i]<50:\n",
    "        age[i]=40\n",
    "    if age[i]>=50 and age[i]<60:\n",
    "        age[i]=50\n",
    "y=[]\n",
    "for i in range(5):\n",
    "    y.append(age.count(10*i+10))\n",
    "max=y[0]\n",
    "t=1\n",
    "for i in range(5):\n",
    "    if y[i]>=max:\n",
    "        max=y[i]\n",
    "        t=i+1\n",
    "print(f\"用现金买水果的男士最多的年龄段为：{t*10}到{t*10+10}\")\n",
    "\n",
    "\n",
    "x=['10-20','20-30','30-40','40-50','50-60']\n",
    "mpl.rcParams['font.sans-serif']=['FangSong']\n",
    "mpl.rcParams['axes.unicode_minus']=False\n",
    "plt.bar(x=x, height=y, label='Age',alpha=0.8)\n",
    "plt.title('用现金买水果的男士年龄段分布图')\n",
    "\n",
    "plt.xlabel(\"年龄段\")\n",
    "\n",
    "plt.ylabel(\"人数\")\n",
    "plt.show()\n",
    "    \n"
   ]
  },
  {
   "cell_type": "code",
   "execution_count": null,
   "id": "e4001381",
   "metadata": {},
   "outputs": [],
   "source": []
  }
 ],
 "metadata": {
  "kernelspec": {
   "display_name": "Python 3",
   "language": "python",
   "name": "python3"
  },
  "language_info": {
   "codemirror_mode": {
    "name": "ipython",
    "version": 3
   },
   "file_extension": ".py",
   "mimetype": "text/x-python",
   "name": "python",
   "nbconvert_exporter": "python",
   "pygments_lexer": "ipython3",
   "version": "3.8.8"
  }
 },
 "nbformat": 4,
 "nbformat_minor": 5
}
