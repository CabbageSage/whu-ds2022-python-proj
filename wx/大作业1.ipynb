{
 "cells": [
  {
   "cell_type": "code",
   "execution_count": 6,
   "metadata": {},
   "outputs": [],
   "source": [
    "import pandas as pd\n",
    "import numpy as np\n",
    "import matplotlib.pyplot as plt\n",
    "from pylab import mpl\n",
    "import re"
   ]
  },
  {
   "cell_type": "code",
   "execution_count": 7,
   "metadata": {
    "pycharm": {
     "name": "#%%\n"
    }
   },
   "outputs": [
    {
     "data": {
      "text/html": [
       "<div>\n",
       "<style scoped>\n",
       "    .dataframe tbody tr th:only-of-type {\n",
       "        vertical-align: middle;\n",
       "    }\n",
       "\n",
       "    .dataframe tbody tr th {\n",
       "        vertical-align: top;\n",
       "    }\n",
       "\n",
       "    .dataframe thead th {\n",
       "        text-align: right;\n",
       "    }\n",
       "</style>\n",
       "<table border=\"1\" class=\"dataframe\">\n",
       "  <thead>\n",
       "    <tr style=\"text-align: right;\">\n",
       "      <th></th>\n",
       "      <th>演员</th>\n",
       "      <th>类型</th>\n",
       "    </tr>\n",
       "  </thead>\n",
       "  <tbody>\n",
       "    <tr>\n",
       "      <th>0</th>\n",
       "      <td>50 Cent</td>\n",
       "      <td>{Action, Mystery, Crime}</td>\n",
       "    </tr>\n",
       "    <tr>\n",
       "      <th>1</th>\n",
       "      <td>A.C. Peterson</td>\n",
       "      <td>{Action, Horror}</td>\n",
       "    </tr>\n",
       "    <tr>\n",
       "      <th>2</th>\n",
       "      <td>AJ Michalka</td>\n",
       "      <td>{Sci-Fi, Mystery, Thriller}</td>\n",
       "    </tr>\n",
       "    <tr>\n",
       "      <th>3</th>\n",
       "      <td>Aamir Khan</td>\n",
       "      <td>{Drama, Music, Biography, Action, Family, Roma...</td>\n",
       "    </tr>\n",
       "    <tr>\n",
       "      <th>4</th>\n",
       "      <td>Aaron Burns</td>\n",
       "      <td>{Drama, Adventure, Horror, Thriller}</td>\n",
       "    </tr>\n",
       "    <tr>\n",
       "      <th>...</th>\n",
       "      <td>...</td>\n",
       "      <td>...</td>\n",
       "    </tr>\n",
       "    <tr>\n",
       "      <th>1980</th>\n",
       "      <td>Zoë Bell</td>\n",
       "      <td>{Action, Thriller, Horror}</td>\n",
       "    </tr>\n",
       "    <tr>\n",
       "      <th>1981</th>\n",
       "      <td>Zoë Kravitz</td>\n",
       "      <td>{Sci-Fi, Drama, Adventure, Action, Thriller, C...</td>\n",
       "    </tr>\n",
       "    <tr>\n",
       "      <th>1982</th>\n",
       "      <td>Émilie Leclerc</td>\n",
       "      <td>{Adventure, Crime, Biography}</td>\n",
       "    </tr>\n",
       "    <tr>\n",
       "      <th>1983</th>\n",
       "      <td>Ólafur Darri Ólafsson</td>\n",
       "      <td>{Adventure, Action, Fantasy}</td>\n",
       "    </tr>\n",
       "    <tr>\n",
       "      <th>1984</th>\n",
       "      <td>Óscar Jaenada</td>\n",
       "      <td>{Horror, Drama, Thriller}</td>\n",
       "    </tr>\n",
       "  </tbody>\n",
       "</table>\n",
       "<p>1985 rows × 2 columns</p>\n",
       "</div>"
      ],
      "text/plain": [
       "                         演员                                                 类型\n",
       "0                   50 Cent                           {Action, Mystery, Crime}\n",
       "1             A.C. Peterson                                   {Action, Horror}\n",
       "2               AJ Michalka                        {Sci-Fi, Mystery, Thriller}\n",
       "3                Aamir Khan  {Drama, Music, Biography, Action, Family, Roma...\n",
       "4               Aaron Burns               {Drama, Adventure, Horror, Thriller}\n",
       "...                     ...                                                ...\n",
       "1980               Zoë Bell                         {Action, Thriller, Horror}\n",
       "1981            Zoë Kravitz  {Sci-Fi, Drama, Adventure, Action, Thriller, C...\n",
       "1982         Émilie Leclerc                      {Adventure, Crime, Biography}\n",
       "1983  Ólafur Darri Ólafsson                       {Adventure, Action, Fantasy}\n",
       "1984          Óscar Jaenada                          {Horror, Drama, Thriller}\n",
       "\n",
       "[1985 rows x 2 columns]"
      ]
     },
     "execution_count": 7,
     "metadata": {},
     "output_type": "execute_result"
    }
   ],
   "source": [
    "df = pd.read_csv('imdb_movies.csv')\n",
    "pairs = {}\n",
    "for i in range(len(df)):\n",
    "    # actors = df.at[i, 'Actors'].split(',')\n",
    "    actors = re.split(r' *, *', df.at[i, 'Actors'])\n",
    "    for item in actors:\n",
    "        actor = item.strip()\n",
    "        if pairs.get(actor, None) != None:\n",
    "            # pairs[actor] |= set(df.at[i, 'Genre'].split(','))\n",
    "            pairs[actor] |= set(re.split(r' *, *', df.at[i, 'Genre']))\n",
    "        else:\n",
    "            # pairs[actor] = set(df.at[i, 'Genre'].split(','))\n",
    "            pairs[actor] = set(re.split(r' *, *', df.at[i, 'Genre']))\n",
    "\n",
    "pairs = sorted(list(pairs.items()), key=lambda item: item[0])\n",
    "index = [item[0] for item in pairs]\n",
    "data = [item[1] for item in pairs]\n",
    "df1 = pd.DataFrame({'演员': index, '类型': data})\n",
    "\n",
    "df1"
   ]
  },
  {
   "cell_type": "code",
   "execution_count": 8,
   "metadata": {
    "pycharm": {
     "name": "#%%\n"
    }
   },
   "outputs": [
    {
     "data": {
      "text/html": [
       "<div>\n",
       "<style scoped>\n",
       "    .dataframe tbody tr th:only-of-type {\n",
       "        vertical-align: middle;\n",
       "    }\n",
       "\n",
       "    .dataframe tbody tr th {\n",
       "        vertical-align: top;\n",
       "    }\n",
       "\n",
       "    .dataframe thead th {\n",
       "        text-align: right;\n",
       "    }\n",
       "</style>\n",
       "<table border=\"1\" class=\"dataframe\">\n",
       "  <thead>\n",
       "    <tr style=\"text-align: right;\">\n",
       "      <th></th>\n",
       "      <th>演员</th>\n",
       "      <th>类型</th>\n",
       "      <th>数量</th>\n",
       "    </tr>\n",
       "  </thead>\n",
       "  <tbody>\n",
       "    <tr>\n",
       "      <th>253</th>\n",
       "      <td>Brad Pitt</td>\n",
       "      <td>{History, Sport, Romance, Action, Adventure, H...</td>\n",
       "      <td>14</td>\n",
       "    </tr>\n",
       "    <tr>\n",
       "      <th>95</th>\n",
       "      <td>Amy Adams</td>\n",
       "      <td>{Mystery, Romance, Adventure, Sci-Fi, Comedy, ...</td>\n",
       "      <td>13</td>\n",
       "    </tr>\n",
       "    <tr>\n",
       "      <th>738</th>\n",
       "      <td>Hugh Jackman</td>\n",
       "      <td>{Mystery, Musical, Romance, Adventure, Sci-Fi,...</td>\n",
       "      <td>13</td>\n",
       "    </tr>\n",
       "    <tr>\n",
       "      <th>353</th>\n",
       "      <td>Chloë Grace Moretz</td>\n",
       "      <td>{Mystery, Romance, Music, Adventure, Horror, S...</td>\n",
       "      <td>13</td>\n",
       "    </tr>\n",
       "    <tr>\n",
       "      <th>1712</th>\n",
       "      <td>Scarlett Johansson</td>\n",
       "      <td>{History, Mystery, Romance, Adventure, Horror,...</td>\n",
       "      <td>13</td>\n",
       "    </tr>\n",
       "    <tr>\n",
       "      <th>...</th>\n",
       "      <td>...</td>\n",
       "      <td>...</td>\n",
       "      <td>...</td>\n",
       "    </tr>\n",
       "    <tr>\n",
       "      <th>1745</th>\n",
       "      <td>Shariff Earp</td>\n",
       "      <td>{Drama}</td>\n",
       "      <td>1</td>\n",
       "    </tr>\n",
       "    <tr>\n",
       "      <th>638</th>\n",
       "      <td>Florence Pugh</td>\n",
       "      <td>{Drama}</td>\n",
       "      <td>1</td>\n",
       "    </tr>\n",
       "    <tr>\n",
       "      <th>635</th>\n",
       "      <td>Fionn O'Shea</td>\n",
       "      <td>{Drama}</td>\n",
       "      <td>1</td>\n",
       "    </tr>\n",
       "    <tr>\n",
       "      <th>634</th>\n",
       "      <td>Fiona Gordon</td>\n",
       "      <td>{Comedy}</td>\n",
       "      <td>1</td>\n",
       "    </tr>\n",
       "    <tr>\n",
       "      <th>992</th>\n",
       "      <td>Jovan Adepo</td>\n",
       "      <td>{Drama}</td>\n",
       "      <td>1</td>\n",
       "    </tr>\n",
       "  </tbody>\n",
       "</table>\n",
       "<p>1985 rows × 3 columns</p>\n",
       "</div>"
      ],
      "text/plain": [
       "                      演员                                                 类型  \\\n",
       "253            Brad Pitt  {History, Sport, Romance, Action, Adventure, H...   \n",
       "95             Amy Adams  {Mystery, Romance, Adventure, Sci-Fi, Comedy, ...   \n",
       "738         Hugh Jackman  {Mystery, Musical, Romance, Adventure, Sci-Fi,...   \n",
       "353   Chloë Grace Moretz  {Mystery, Romance, Music, Adventure, Horror, S...   \n",
       "1712  Scarlett Johansson  {History, Mystery, Romance, Adventure, Horror,...   \n",
       "...                  ...                                                ...   \n",
       "1745        Shariff Earp                                            {Drama}   \n",
       "638        Florence Pugh                                            {Drama}   \n",
       "635         Fionn O'Shea                                            {Drama}   \n",
       "634         Fiona Gordon                                           {Comedy}   \n",
       "992          Jovan Adepo                                            {Drama}   \n",
       "\n",
       "      数量  \n",
       "253   14  \n",
       "95    13  \n",
       "738   13  \n",
       "353   13  \n",
       "1712  13  \n",
       "...   ..  \n",
       "1745   1  \n",
       "638    1  \n",
       "635    1  \n",
       "634    1  \n",
       "992    1  \n",
       "\n",
       "[1985 rows x 3 columns]"
      ]
     },
     "execution_count": 8,
     "metadata": {},
     "output_type": "execute_result"
    }
   ],
   "source": [
    "df1['数量'] = df1['类型'].apply(lambda x: len(x))\n",
    "df1.sort_values('数量', ascending=False)"
   ]
  },
  {
   "cell_type": "code",
   "execution_count": 9,
   "metadata": {
    "pycharm": {
     "name": "#%%\n"
    }
   },
   "outputs": [
    {
     "data": {
      "text/plain": [
       "14"
      ]
     },
     "execution_count": 9,
     "metadata": {},
     "output_type": "execute_result"
    }
   ],
   "source": [
    "result = df1['数量'].max()\n",
    "result"
   ]
  },
  {
   "cell_type": "code",
   "execution_count": 10,
   "metadata": {
    "pycharm": {
     "name": "#%%\n"
    }
   },
   "outputs": [
    {
     "data": {
      "text/html": [
       "<div>\n",
       "<style scoped>\n",
       "    .dataframe tbody tr th:only-of-type {\n",
       "        vertical-align: middle;\n",
       "    }\n",
       "\n",
       "    .dataframe tbody tr th {\n",
       "        vertical-align: top;\n",
       "    }\n",
       "\n",
       "    .dataframe thead th {\n",
       "        text-align: right;\n",
       "    }\n",
       "</style>\n",
       "<table border=\"1\" class=\"dataframe\">\n",
       "  <thead>\n",
       "    <tr style=\"text-align: right;\">\n",
       "      <th></th>\n",
       "      <th>演员</th>\n",
       "      <th>类型</th>\n",
       "      <th>数量</th>\n",
       "    </tr>\n",
       "  </thead>\n",
       "  <tbody>\n",
       "    <tr>\n",
       "      <th>95</th>\n",
       "      <td>Amy Adams</td>\n",
       "      <td>{Mystery, Romance, Adventure, Sci-Fi, Comedy, ...</td>\n",
       "      <td>13</td>\n",
       "    </tr>\n",
       "    <tr>\n",
       "      <th>253</th>\n",
       "      <td>Brad Pitt</td>\n",
       "      <td>{History, Sport, Romance, Action, Adventure, H...</td>\n",
       "      <td>14</td>\n",
       "    </tr>\n",
       "    <tr>\n",
       "      <th>353</th>\n",
       "      <td>Chloë Grace Moretz</td>\n",
       "      <td>{Mystery, Romance, Music, Adventure, Horror, S...</td>\n",
       "      <td>13</td>\n",
       "    </tr>\n",
       "    <tr>\n",
       "      <th>738</th>\n",
       "      <td>Hugh Jackman</td>\n",
       "      <td>{Mystery, Musical, Romance, Adventure, Sci-Fi,...</td>\n",
       "      <td>13</td>\n",
       "    </tr>\n",
       "    <tr>\n",
       "      <th>953</th>\n",
       "      <td>Johnny Depp</td>\n",
       "      <td>{Musical, Mystery, Romance, Adventure, Horror,...</td>\n",
       "      <td>13</td>\n",
       "    </tr>\n",
       "    <tr>\n",
       "      <th>1712</th>\n",
       "      <td>Scarlett Johansson</td>\n",
       "      <td>{History, Mystery, Romance, Adventure, Horror,...</td>\n",
       "      <td>13</td>\n",
       "    </tr>\n",
       "  </tbody>\n",
       "</table>\n",
       "</div>"
      ],
      "text/plain": [
       "                      演员                                                 类型  \\\n",
       "95             Amy Adams  {Mystery, Romance, Adventure, Sci-Fi, Comedy, ...   \n",
       "253            Brad Pitt  {History, Sport, Romance, Action, Adventure, H...   \n",
       "353   Chloë Grace Moretz  {Mystery, Romance, Music, Adventure, Horror, S...   \n",
       "738         Hugh Jackman  {Mystery, Musical, Romance, Adventure, Sci-Fi,...   \n",
       "953          Johnny Depp  {Musical, Mystery, Romance, Adventure, Horror,...   \n",
       "1712  Scarlett Johansson  {History, Mystery, Romance, Adventure, Horror,...   \n",
       "\n",
       "      数量  \n",
       "95    13  \n",
       "253   14  \n",
       "353   13  \n",
       "738   13  \n",
       "953   13  \n",
       "1712  13  "
      ]
     },
     "execution_count": 10,
     "metadata": {},
     "output_type": "execute_result"
    }
   ],
   "source": [
    "ans = df1[df1['数量']>=result-1]\n",
    "ans"
   ]
  },
  {
   "cell_type": "code",
   "execution_count": 11,
   "metadata": {},
   "outputs": [
    {
     "data": {
      "text/plain": [
       "<Figure size 432x288 with 0 Axes>"
      ]
     },
     "metadata": {},
     "output_type": "display_data"
    },
    {
     "name": "stderr",
     "output_type": "stream",
     "text": [
      "C:\\Users\\linter\\AppData\\Roaming\\Python\\Python39\\site-packages\\IPython\\core\\pylabtools.py:151: UserWarning: Glyph 235 (\\N{LATIN SMALL LETTER E WITH DIAERESIS}) missing from current font.\n",
      "  fig.canvas.print_figure(bytes_io, **kw)\n"
     ]
    },
    {
     "data": {
      "image/png": "[encoded data removed]",
      "text/plain": [
       "<Figure size 432x288 with 1 Axes>"
      ]
     },
     "metadata": {
      "needs_background": "light"
     },
     "output_type": "display_data"
    }
   ],
   "source": [
    "mpl.rcParams['font.sans-serif']=['FangSong']\n",
    "mpl.rcParams['axes.unicode_minus']=False\n",
    "plt.figure()\n",
    "ans.plot(x='演员',y='数量',kind='bar')\n",
    "plt.show()"
   ]
  },
  {
   "cell_type": "code",
   "execution_count": null,
   "metadata": {},
   "outputs": [],
   "source": []
  }
 ],
 "metadata": {
  "kernelspec": {
   "display_name": "Python 3",
   "language": "python",
   "name": "python3"
  },
  "language_info": {
   "codemirror_mode": {
    "name": "ipython",
    "version": 3
   },
   "file_extension": ".py",
   "mimetype": "text/x-python",
   "name": "python",
   "nbconvert_exporter": "python",
   "pygments_lexer": "ipython3",
   "version": "3.9.10"
  }
 },
 "nbformat": 4,
 "nbformat_minor": 1
}
