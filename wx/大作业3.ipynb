{
 "cells": [
  {
   "cell_type": "code",
   "execution_count": 9,
   "id": "677cd6ce",
   "metadata": {},
   "outputs": [],
   "source": [
    "import pandas  as pd\n",
    "from pyecharts.charts import Map,Page\n",
    "from pyecharts import options as opts"
   ]
  },
  {
   "cell_type": "code",
   "execution_count": 10,
   "id": "67aff594",
   "metadata": {},
   "outputs": [],
   "source": [
    "pd.set_option('display.unicode.ambiguous_as_wide', True)\n",
    "pd.set_option('display.unicode.east_asian_width', True)\n",
    "\n",
    "df = pd.read_csv('time_series_covid19_confirmed_global.csv')\n",
    "df=df.groupby('Country/Region')['10/11/20'].sum().reset_index()\n",
    "df.sort_values(by='10/11/20',ascending=False,inplace=True)\n",
    "df['Country/Region']=df['Country/Region'].str.replace('US','United States')\n",
    "most=df.head(30)\n",
    "least=df.tail(30)"
   ]
  },
  {
   "cell_type": "code",
   "execution_count": 11,
   "id": "06556916",
   "metadata": {},
   "outputs": [],
   "source": [
    "data1=list(df['Country/Region'])\n",
    "data2=list(df['10/11/20'])"
   ]
  },
  {
   "cell_type": "code",
   "execution_count": 12,
   "id": "469174b8",
   "metadata": {},
   "outputs": [
    {
     "data": {
      "text/plain": [
       "'C:\\\\Users\\\\91242\\\\world_map.html'"
      ]
     },
     "execution_count": 12,
     "metadata": {},
     "output_type": "execute_result"
    }
   ],
   "source": [
    "map = Map( init_opts=opts.InitOpts(width=\"1000px\", height=\"600px\", bg_color=\"#ADD8E6\",\n",
    "page_title=\"2020年10月11日全球疫情确诊人数\",theme=\"white\"))\n",
    "map.add(\"确诊人数\",[list(z) for z in zip(data1,data2)],is_map_symbol_show=False,\n",
    "    maptype=\"world\",label_opts=opts.LabelOpts(is_show=False),\n",
    "    itemstyle_opts=opts.ItemStyleOpts(color=\"rgb(49,60,72)\"))\n",
    "map.set_global_opts(title_opts = opts.TitleOpts(title='10/11/20 全球疫情确诊情况'),\n",
    "    legend_opts=opts.LegendOpts(is_show=False),\n",
    "    visualmap_opts = opts.VisualMapOpts(max_=100000))\n",
    "map.render('world_map.html')\n"
   ]
  },
  {
   "cell_type": "code",
   "execution_count": 14,
   "id": "26d9d877",
   "metadata": {},
   "outputs": [
    {
     "data": {
      "text/plain": [
       "['United States',\n",
       " 'India',\n",
       " 'Brazil',\n",
       " 'Russia',\n",
       " 'Colombia',\n",
       " 'Argentina',\n",
       " 'Spain',\n",
       " 'Peru',\n",
       " 'Mexico',\n",
       " 'France',\n",
       " 'South Africa',\n",
       " 'United Kingdom',\n",
       " 'Iran',\n",
       " 'Chile',\n",
       " 'Iraq',\n",
       " 'Bangladesh',\n",
       " 'Italy',\n",
       " 'Philippines',\n",
       " 'Saudi Arabia',\n",
       " 'Turkey',\n",
       " 'Indonesia',\n",
       " 'Germany',\n",
       " 'Pakistan',\n",
       " 'Israel',\n",
       " 'Ukraine',\n",
       " 'Canada',\n",
       " 'Netherlands',\n",
       " 'Belgium',\n",
       " 'Romania',\n",
       " 'Morocco']"
      ]
     },
     "execution_count": 14,
     "metadata": {},
     "output_type": "execute_result"
    }
   ],
   "source": [
    "data1=list(most['Country/Region'])\n",
    "data2=list(most['10/11/20'])\n",
    "map = Map( init_opts=opts.InitOpts(width=\"1000px\", height=\"600px\", bg_color=\"#ADD8E6\",\n",
    "page_title=\"2020年10月11日全球疫情确诊人数\",theme=\"white\"))\n",
    "map.add(\"确诊人数\",[list(z) for z in zip(data1,data2)],is_map_symbol_show=False,\n",
    "    maptype=\"world\",label_opts=opts.LabelOpts(is_show=False),\n",
    "    itemstyle_opts=opts.ItemStyleOpts(color=\"rgb(49,60,72)\"))\n",
    "map.set_global_opts(title_opts = opts.TitleOpts(title='10/11/20 全球疫情确诊人数最多30个国家'),\n",
    "    legend_opts=opts.LegendOpts(is_show=False),\n",
    "    visualmap_opts = opts.VisualMapOpts(max_=100000))\n",
    "map.render('worldmost_map.html')\n",
    "data1"
   ]
  },
  {
   "cell_type": "code",
   "execution_count": 17,
   "id": "6579186a",
   "metadata": {},
   "outputs": [
    {
     "data": {
      "text/plain": [
       "['Sao Tome and Principe',\n",
       " 'San Marino',\n",
       " 'Diamond Princess',\n",
       " 'Papua New Guinea',\n",
       " 'Taiwan*',\n",
       " 'Burundi',\n",
       " 'Tanzania',\n",
       " 'Comoros',\n",
       " 'Eritrea',\n",
       " 'Mauritius',\n",
       " 'Mongolia',\n",
       " 'Bhutan',\n",
       " 'Cambodia',\n",
       " 'Monaco',\n",
       " 'Barbados',\n",
       " 'Seychelles',\n",
       " 'Brunei',\n",
       " 'Liechtenstein',\n",
       " 'Antigua and Barbuda',\n",
       " 'Saint Vincent and the Grenadines',\n",
       " 'Dominica',\n",
       " 'Fiji',\n",
       " 'Saint Lucia',\n",
       " 'Timor-Leste',\n",
       " 'Grenada',\n",
       " 'Laos',\n",
       " 'Saint Kitts and Nevis',\n",
       " 'Holy See',\n",
       " 'Western Sahara',\n",
       " 'MS Zaandam']"
      ]
     },
     "execution_count": 17,
     "metadata": {},
     "output_type": "execute_result"
    }
   ],
   "source": [
    "data1=list(least['Country/Region'])\n",
    "data2=list(least['10/11/20'])\n",
    "map = Map( init_opts=opts.InitOpts(width=\"1000px\", height=\"600px\", bg_color=\"#ADD8E6\",\n",
    "page_title=\"2020年10月11日全球疫情确诊人数\",theme=\"white\"))\n",
    "map.add(\"确诊人数\",[list(z) for z in zip(data1,data2)],is_map_symbol_show=False,\n",
    "    maptype=\"world\",label_opts=opts.LabelOpts(is_show=False),\n",
    "    itemstyle_opts=opts.ItemStyleOpts(color=\"rgb(49,60,72)\"))\n",
    "map.set_global_opts(title_opts = opts.TitleOpts(title='10/11/20 全球疫情确诊人数最少30个国家'),\n",
    "    legend_opts=opts.LegendOpts(is_show=False),\n",
    "    visualmap_opts = opts.VisualMapOpts(max_=100000))\n",
    "map.render('worldleast_map.html')\n",
    "data1\n"
   ]
  },
  {
   "cell_type": "code",
   "execution_count": null,
   "id": "e736ca19",
   "metadata": {},
   "outputs": [],
   "source": []
  }
 ],
 "metadata": {
  "kernelspec": {
   "display_name": "Python 3",
   "language": "python",
   "name": "python3"
  },
  "language_info": {
   "codemirror_mode": {
    "name": "ipython",
    "version": 3
   },
   "file_extension": ".py",
   "mimetype": "text/x-python",
   "name": "python",
   "nbconvert_exporter": "python",
   "pygments_lexer": "ipython3",
   "version": "3.8.8"
  }
 },
 "nbformat": 4,
 "nbformat_minor": 5
}
